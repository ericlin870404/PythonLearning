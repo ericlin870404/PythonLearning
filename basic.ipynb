{
 "cells": [
  {
   "cell_type": "markdown",
   "metadata": {},
   "source": [
    "變數宣告(int, float, str)"
   ]
  },
  {
   "cell_type": "code",
   "execution_count": 1,
   "metadata": {},
   "outputs": [
    {
     "name": "stdout",
     "output_type": "stream",
     "text": [
      "Type of total_spend:   <class 'int'>\n",
      "Type of average_spend:   <class 'float'>\n",
      "Type of message:   <class 'str'>\n"
     ]
    }
   ],
   "source": [
    "#int\n",
    "day1_spend = 100\n",
    "day2_spend = 200\n",
    "day3_spend = 130\n",
    "total_spend = day1_spend + day2_spend + day3_spend\n",
    "#float\n",
    "average_spend = total_spend / 3\n",
    "#str\n",
    "message = \"今天是星期五晚上!Let'go!!!\"\n",
    "\n",
    "print(\"Type of total_spend:  \",type(total_spend))\n",
    "print(\"Type of average_spend:  \",type(average_spend))\n",
    "print(\"Type of message:  \",type(message))"
   ]
  },
  {
   "cell_type": "markdown",
   "metadata": {},
   "source": [
    "輸入(Input)"
   ]
  },
  {
   "cell_type": "code",
   "execution_count": 5,
   "metadata": {},
   "outputs": [
    {
     "name": "stdout",
     "output_type": "stream",
     "text": [
      "Hello Eric, your age is 26 years old.\n",
      "Hello Eric, your age is 26 years old\n"
     ]
    }
   ],
   "source": [
    "name = input(\"Please enter your name:\")\n",
    "born_year = input(\"Please enter your year of birth:\")\n",
    "age = 2024 - int(born_year)\n",
    "#寫法一\n",
    "print(\"Hello \"+ name + \", your age is \" + str(age) + \" years old.\")\n",
    "#寫法二\n",
    "print(f\"Hello {name}, your age is {age} years old\")"
   ]
  },
  {
   "cell_type": "markdown",
   "metadata": {},
   "source": [
    "判斷式(If, elif, else)"
   ]
  },
  {
   "cell_type": "code",
   "execution_count": 11,
   "metadata": {},
   "outputs": [
    {
     "name": "stdout",
     "output_type": "stream",
     "text": [
      "The total cost of the meal is 530 NTD.\n"
     ]
    }
   ],
   "source": [
    "steak_price = 500\n",
    "pork_price = 450\n",
    "combo_price = 80\n",
    "meal = input(\"What kind of meal would you like?(A)steak (B)pork: \").upper()\n",
    "combo = input(\"Would you like to upgrade to a combo?(Y)Yes (N)Not: \").upper()\n",
    "#寫法一\n",
    "# if meal == \"A\":\n",
    "#     if combo == \"Y\":\n",
    "#         print(f\"The total cost of the meal is {steak_price + combo_price} NTD.\")\n",
    "#     else:\n",
    "#         print(f\"The total cost of the meal is {steak_price} NTD.\")\n",
    "# else:\n",
    "#     if combo == \"Y\":\n",
    "#         print(f\"The total cost of the meal is {pork_price + combo_price} NTD.\")\n",
    "#     else:\n",
    "#         print(f\"The total cost of the meal is {pork_price} NTD.\")\n",
    "#寫法二\n",
    "if meal == \"A\" and combo == \"Y\":\n",
    "    print(f\"The total cost of the meal is {steak_price + combo_price} NTD.\")\n",
    "elif meal == \"A\" and combo == \"N\":\n",
    "    print(f\"The total cost of the meal is {steak_price} NTD.\")\n",
    "elif meal == \"B\" and combo == \"Y\":\n",
    "    print(f\"The total cost of the meal is {pork_price + combo_price} NTD.\")  \n",
    "else:\n",
    "    print(f\"The total cost of the meal is {pork_price} NTD.\")"
   ]
  },
  {
   "cell_type": "markdown",
   "metadata": {},
   "source": [
    "清單(List)"
   ]
  },
  {
   "cell_type": "code",
   "execution_count": 24,
   "metadata": {},
   "outputs": [
    {
     "name": "stdout",
     "output_type": "stream",
     "text": [
      "學生人數:  4\n",
      "第一位同學是:  小羅\n",
      "最後一位同學是:  饅頭\n",
      "第一位和第二位同學是:  ['小羅', '小安']\n",
      "前三位同學是:  ['小羅', '小安', '包子']\n",
      "後三位同學是:  ['小安', '包子', '饅頭']\n"
     ]
    }
   ],
   "source": [
    "#建立清單\n",
    "student_list = [\"小羅\", \"小安\", \"包子\", \"饅頭\"]\n",
    "\n",
    "#清單總數\n",
    "print(\"學生人數: \", len(student_list))\n",
    "\n",
    "#清單查詢\n",
    "print(\"第一位同學是: \", student_list[0])\n",
    "print(\"最後一位同學是: \", student_list[-1])\n",
    "print(\"第一位和第二位同學是: \", student_list[0:2])\n",
    "print(\"前三位同學是: \", student_list[:3])\n",
    "print(\"後三位同學是: \", student_list[1:])\n"
   ]
  },
  {
   "cell_type": "markdown",
   "metadata": {},
   "source": [
    "字串與清單轉換"
   ]
  },
  {
   "cell_type": "code",
   "execution_count": 23,
   "metadata": {},
   "outputs": [
    {
     "name": "stdout",
     "output_type": "stream",
     "text": [
      "number_string to list:  ['1', '2', '3', '4', '5']\n",
      "date_string to list: ['2024', '10', '03']\n",
      "list to string: 小羅-小安-包子-饅頭\n"
     ]
    }
   ],
   "source": [
    "number_string = '12345'\n",
    "date_string = '2024/10/03'\n",
    "\n",
    "#字串轉清單\n",
    "list1 = list(number_string)\n",
    "list2 = date_string.split(\"/\")\n",
    "#清單轉字串\n",
    "string = \"-\".join(student_list)\n",
    "\n",
    "print(\"number_string to list: \", list1)\n",
    "print(\"date_string to list:\", list2)\n",
    "print(\"list to string:\", string)"
   ]
  },
  {
   "cell_type": "markdown",
   "metadata": {},
   "source": [
    "查詢/新增/刪除/修改"
   ]
  },
  {
   "cell_type": "code",
   "execution_count": 37,
   "metadata": {},
   "outputs": [
    {
     "name": "stdout",
     "output_type": "stream",
     "text": [
      "你幹嘛啦\n"
     ]
    }
   ],
   "source": [
    "student_score_list = ['小安', 95, '小妤', 98, '小羅', 20]\n",
    "operation = input(\"請輸入操作指令(A)查詢(B)新增(C)刪除(D)修改: \").upper()\n",
    "\n",
    "if operation == \"A\":\n",
    "    name = input(\"請輸入要查詢的學生姓名: \")\n",
    "    if name in student_score_list:\n",
    "        index = student_score_list.index(name)\n",
    "        print(f\"{name}的成績為{student_score_list[index+1]}\")\n",
    "    else:\n",
    "        print(\"查你個鬼!\")\n",
    "elif operation == \"B\":\n",
    "    name = input(\"請輸入要新增的學生姓名及成績(姓名/成績): \")\n",
    "    add_data = name.split(\"/\")\n",
    "    student_score_list.extend(add_data)\n",
    "    print(\"新增成功!學生成績清單更新為: \", student_score_list)\n",
    "elif operation == \"C\":\n",
    "    name = input(\"請輸入要刪除的學生姓名: \")\n",
    "    if name in student_score_list:\n",
    "        index = student_score_list.index(name)\n",
    "        student_score_list.pop(index)\n",
    "        student_score_list.pop(index)\n",
    "        print(\"刪除成功!學生成績清單更新為: \", student_score_list)\n",
    "    else:\n",
    "        print(\"刪你個鬼!\")\n",
    "elif operation == \"D\":\n",
    "    name = input(\"請輸入要修改的學生姓名: \")\n",
    "    if name in student_score_list:\n",
    "        score = input(f\"請輸入{name}正確的成績: \")\n",
    "        index = student_score_list.index(name)\n",
    "        student_score_list[index+1] = score\n",
    "        print(\"修改成功!學生成績清單更新為: \", student_score_list)\n",
    "    else:\n",
    "        print(\"修你個鬼!\")\n",
    "else:\n",
    "    print(\"欸你幹嘛啦\") \n",
    "    \n"
   ]
  },
  {
   "cell_type": "markdown",
   "metadata": {},
   "source": [
    "迴圈(for)"
   ]
  },
  {
   "cell_type": "code",
   "execution_count": 71,
   "metadata": {},
   "outputs": [
    {
     "name": "stdout",
     "output_type": "stream",
     "text": [
      "迴圈練習1:遍歷清單\n",
      "小羅\n",
      "小安\n",
      "小妤\n",
      "饅頭\n",
      "------------------------\n",
      "迴圈練習2:break(符合條件就終止迴圈)\n",
      "小羅\n",
      "小安\n",
      "------------------------\n",
      "迴圈練習3:continue(符合條件就跳過當前內容繼續執行)\n",
      "小羅\n",
      "小安\n",
      "饅頭\n",
      "------------------------\n",
      "迴圈練習4:巢狀迴圈\n",
      "搭配組合: 蛋餅+紅茶\n",
      "搭配組合: 蛋餅+奶茶\n",
      "搭配組合: 蛋餅+豆漿\n",
      "搭配組合: 蔥抓餅+紅茶\n",
      "搭配組合: 蔥抓餅+奶茶\n",
      "搭配組合: 蔥抓餅+豆漿\n",
      "搭配組合: 肉蛋吐司+紅茶\n",
      "搭配組合: 肉蛋吐司+奶茶\n",
      "搭配組合: 肉蛋吐司+豆漿\n",
      "搭配組合: 蘿蔔糕+紅茶\n",
      "搭配組合: 蘿蔔糕+奶茶\n",
      "搭配組合: 蘿蔔糕+豆漿\n",
      "食物和飲料總共有12種組合\n",
      "------------------------\n",
      "迴圈練習5:填充陣列\n",
      "正數陣列: [1, 3, 9]\n",
      "負數陣列: [-1, -8]\n"
     ]
    }
   ],
   "source": [
    "student_list = [\"小羅\", \"小安\", \"小妤\", \"饅頭\"]\n",
    "#遍歷清單內容\n",
    "print(\"迴圈練習1:遍歷清單\")\n",
    "for student in student_list:\n",
    "    print(student) \n",
    "print(\"------------------------\")\n",
    "\n",
    "#break: 結束迴圈\n",
    "print(\"迴圈練習2:break(符合條件就終止迴圈)\")\n",
    "for student in student_list:\n",
    "    if student == \"小妤\": \n",
    "        break\n",
    "    print(student)\n",
    "print(\"------------------------\")\n",
    "\n",
    "#continue: 跳過當下迴圈內容\n",
    "print(\"迴圈練習3:continue(符合條件就跳過當前內容繼續執行)\")\n",
    "for student in student_list:\n",
    "    if student == \"小妤\": \n",
    "        continue\n",
    "    print(student)\n",
    "print(\"------------------------\")\n",
    "\n",
    "#巢狀迴圈\n",
    "print(\"迴圈練習4:巢狀迴圈\")\n",
    "food_list = [\"蛋餅\", \"蔥抓餅\", \"肉蛋吐司\", \"蘿蔔糕\"]\n",
    "drink_list = [\"紅茶\", \"奶茶\", \"豆漿\"]\n",
    "count = 0\n",
    "for food in food_list:\n",
    "    for drink in drink_list:\n",
    "        print(f\"搭配組合: {food}+{drink}\")\n",
    "        count += 1\n",
    "print(f\"食物和飲料總共有{count}種組合\")\n",
    "print(\"------------------------\")\n",
    "\n",
    "#填充陣列\n",
    "print(\"迴圈練習5:填充陣列\")\n",
    "number_list = [-1,1,3,-8,9]\n",
    "positive_list = []\n",
    "negative_list = []\n",
    "for number in number_list:\n",
    "    if number > 0:\n",
    "        positive_list.append(number)\n",
    "    else:\n",
    "        negative_list.append(number)\n",
    "print(\"正數陣列:\", positive_list)\n",
    "print(\"負數陣列:\", negative_list)"
   ]
  },
  {
   "cell_type": "markdown",
   "metadata": {},
   "source": [
    "Range(起始值, 結束值, 間距)"
   ]
  },
  {
   "cell_type": "code",
   "execution_count": 74,
   "metadata": {},
   "outputs": [
    {
     "name": "stdout",
     "output_type": "stream",
     "text": [
      "再來啊:)剩下4次囉哈哈py\n",
      "再來啊:)剩下3次囉哈哈py\n",
      "再來啊:)剩下2次囉哈哈py\n",
      "再來啊:)剩下1次囉哈哈py\n",
      "出事了阿伯蛇\n"
     ]
    }
   ],
   "source": [
    "#range(起始值, 結束值, 間距)\n",
    "for i in range(5):\n",
    "    print(i)\n",
    "print(\"------------------\")\n",
    "for i in range(7,10):\n",
    "    print(i)\n",
    "print(\"------------------\")\n",
    "for i in range(5,10,2):\n",
    "    print(i)\n",
    "print(\"------------------\")    \n",
    "\n",
    "#密碼驗證\n",
    "# i = 0,1,2,3,4\n",
    "#當 i == 4時還沒有猜對，就要印出失敗訊息\n",
    "passwordgood = 1234\n",
    "for i in range(5):\n",
    "    userInput = input(\"請輸入密碼: \")\n",
    "    if passwordgood == userInput:\n",
    "        print(\"很會猜嘛..\")\n",
    "        break\n",
    "    elif passwordgood != userInput and i < 4:\n",
    "        print(f\"再來啊:)剩下{4-i}次囉哈哈py\")\n",
    "    else:\n",
    "        print(\"出事了阿伯蛇\")\n",
    "        "
   ]
  }
 ],
 "metadata": {
  "kernelspec": {
   "display_name": "base",
   "language": "python",
   "name": "python3"
  },
  "language_info": {
   "codemirror_mode": {
    "name": "ipython",
    "version": 3
   },
   "file_extension": ".py",
   "mimetype": "text/x-python",
   "name": "python",
   "nbconvert_exporter": "python",
   "pygments_lexer": "ipython3",
   "version": "3.11.3"
  }
 },
 "nbformat": 4,
 "nbformat_minor": 2
}

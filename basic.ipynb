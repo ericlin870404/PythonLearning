{
 "cells": [
  {
   "cell_type": "markdown",
   "metadata": {},
   "source": [
    "變數宣告(int, float, str)"
   ]
  },
  {
   "cell_type": "code",
   "execution_count": 1,
   "metadata": {},
   "outputs": [
    {
     "name": "stdout",
     "output_type": "stream",
     "text": [
      "Type of total_spend:   <class 'int'>\n",
      "Type of average_spend:   <class 'float'>\n",
      "Type of message:   <class 'str'>\n"
     ]
    }
   ],
   "source": [
    "#int\n",
    "day1_spend = 100\n",
    "day2_spend = 200\n",
    "day3_spend = 130\n",
    "total_spend = day1_spend + day2_spend + day3_spend\n",
    "#float\n",
    "average_spend = total_spend / 3\n",
    "#str\n",
    "message = \"今天是星期五晚上!Let'go!!!\"\n",
    "\n",
    "print(\"Type of total_spend:  \",type(total_spend))\n",
    "print(\"Type of average_spend:  \",type(average_spend))\n",
    "print(\"Type of message:  \",type(message))"
   ]
  },
  {
   "cell_type": "markdown",
   "metadata": {},
   "source": [
    "輸入(Input)"
   ]
  },
  {
   "cell_type": "code",
   "execution_count": 5,
   "metadata": {},
   "outputs": [
    {
     "name": "stdout",
     "output_type": "stream",
     "text": [
      "Hello Eric, your age is 26 years old.\n",
      "Hello Eric, your age is 26 years old\n"
     ]
    }
   ],
   "source": [
    "name = input(\"Please enter your name:\")\n",
    "born_year = input(\"Please enter your year of birth:\")\n",
    "age = 2024 - int(born_year)\n",
    "#寫法一\n",
    "print(\"Hello \"+ name + \", your age is \" + str(age) + \" years old.\")\n",
    "#寫法二\n",
    "print(f\"Hello {name}, your age is {age} years old\")"
   ]
  },
  {
   "cell_type": "markdown",
   "metadata": {},
   "source": [
    "判斷式(If, elif, else)"
   ]
  },
  {
   "cell_type": "code",
   "execution_count": 11,
   "metadata": {},
   "outputs": [
    {
     "name": "stdout",
     "output_type": "stream",
     "text": [
      "The total cost of the meal is 530 NTD.\n"
     ]
    }
   ],
   "source": [
    "steak_price = 500\n",
    "pork_price = 450\n",
    "combo_price = 80\n",
    "meal = input(\"What kind of meal would you like?(A)steak (B)pork: \").upper()\n",
    "combo = input(\"Would you like to upgrade to a combo?(Y)Yes (N)Not: \").upper()\n",
    "#寫法一\n",
    "# if meal == \"A\":\n",
    "#     if combo == \"Y\":\n",
    "#         print(f\"The total cost of the meal is {steak_price + combo_price} NTD.\")\n",
    "#     else:\n",
    "#         print(f\"The total cost of the meal is {steak_price} NTD.\")\n",
    "# else:\n",
    "#     if combo == \"Y\":\n",
    "#         print(f\"The total cost of the meal is {pork_price + combo_price} NTD.\")\n",
    "#     else:\n",
    "#         print(f\"The total cost of the meal is {pork_price} NTD.\")\n",
    "#寫法二\n",
    "if meal == \"A\" and combo == \"Y\":\n",
    "    print(f\"The total cost of the meal is {steak_price + combo_price} NTD.\")\n",
    "elif meal == \"A\" and combo == \"N\":\n",
    "    print(f\"The total cost of the meal is {steak_price} NTD.\")\n",
    "elif meal == \"B\" and combo == \"Y\":\n",
    "    print(f\"The total cost of the meal is {pork_price + combo_price} NTD.\")  \n",
    "else:\n",
    "    print(f\"The total cost of the meal is {pork_price} NTD.\")"
   ]
  },
  {
   "cell_type": "markdown",
   "metadata": {},
   "source": [
    "清單(List)"
   ]
  },
  {
   "cell_type": "code",
   "execution_count": 24,
   "metadata": {},
   "outputs": [
    {
     "name": "stdout",
     "output_type": "stream",
     "text": [
      "學生人數:  4\n",
      "第一位同學是:  小羅\n",
      "最後一位同學是:  饅頭\n",
      "第一位和第二位同學是:  ['小羅', '小安']\n",
      "前三位同學是:  ['小羅', '小安', '包子']\n",
      "後三位同學是:  ['小安', '包子', '饅頭']\n"
     ]
    }
   ],
   "source": [
    "#建立清單\n",
    "student_list = [\"小羅\", \"小安\", \"包子\", \"饅頭\"]\n",
    "\n",
    "#清單總數\n",
    "print(\"學生人數: \", len(student_list))\n",
    "\n",
    "#清單查詢\n",
    "print(\"第一位同學是: \", student_list[0])\n",
    "print(\"最後一位同學是: \", student_list[-1])\n",
    "print(\"第一位和第二位同學是: \", student_list[0:2])\n",
    "print(\"前三位同學是: \", student_list[:3])\n",
    "print(\"後三位同學是: \", student_list[1:])\n"
   ]
  },
  {
   "cell_type": "markdown",
   "metadata": {},
   "source": [
    "字串與清單轉換"
   ]
  },
  {
   "cell_type": "code",
   "execution_count": 23,
   "metadata": {},
   "outputs": [
    {
     "name": "stdout",
     "output_type": "stream",
     "text": [
      "number_string to list:  ['1', '2', '3', '4', '5']\n",
      "date_string to list: ['2024', '10', '03']\n",
      "list to string: 小羅-小安-包子-饅頭\n"
     ]
    }
   ],
   "source": [
    "number_string = '12345'\n",
    "date_string = '2024/10/03'\n",
    "\n",
    "#字串轉清單\n",
    "list1 = list(number_string)\n",
    "list2 = date_string.split(\"/\")\n",
    "#清單轉字串\n",
    "string = \"-\".join(student_list)\n",
    "\n",
    "print(\"number_string to list: \", list1)\n",
    "print(\"date_string to list:\", list2)\n",
    "print(\"list to string:\", string)"
   ]
  },
  {
   "cell_type": "markdown",
   "metadata": {},
   "source": [
    "查詢/新增/刪除/修改"
   ]
  },
  {
   "cell_type": "code",
   "execution_count": 37,
   "metadata": {},
   "outputs": [
    {
     "name": "stdout",
     "output_type": "stream",
     "text": [
      "你幹嘛啦\n"
     ]
    }
   ],
   "source": [
    "student_score_list = ['小安', 95, '小妤', 98, '小羅', 20]\n",
    "operation = input(\"請輸入操作指令(A)查詢(B)新增(C)刪除(D)修改: \").upper()\n",
    "\n",
    "if operation == \"A\":\n",
    "    name = input(\"請輸入要查詢的學生姓名: \")\n",
    "    if name in student_score_list:\n",
    "        index = student_score_list.index(name)\n",
    "        print(f\"{name}的成績為{student_score_list[index+1]}\")\n",
    "    else:\n",
    "        print(\"查你個鬼!\")\n",
    "elif operation == \"B\":\n",
    "    name = input(\"請輸入要新增的學生姓名及成績(姓名/成績): \")\n",
    "    add_data = name.split(\"/\")\n",
    "    student_score_list.extend(add_data)\n",
    "    print(\"新增成功!學生成績清單更新為: \", student_score_list)\n",
    "elif operation == \"C\":\n",
    "    name = input(\"請輸入要刪除的學生姓名: \")\n",
    "    if name in student_score_list:\n",
    "        index = student_score_list.index(name)\n",
    "        student_score_list.pop(index)\n",
    "        student_score_list.pop(index)\n",
    "        print(\"刪除成功!學生成績清單更新為: \", student_score_list)\n",
    "    else:\n",
    "        print(\"刪你個鬼!\")\n",
    "elif operation == \"D\":\n",
    "    name = input(\"請輸入要修改的學生姓名: \")\n",
    "    if name in student_score_list:\n",
    "        score = input(f\"請輸入{name}正確的成績: \")\n",
    "        index = student_score_list.index(name)\n",
    "        student_score_list[index+1] = score\n",
    "        print(\"修改成功!學生成績清單更新為: \", student_score_list)\n",
    "    else:\n",
    "        print(\"修你個鬼!\")\n",
    "else:\n",
    "    print(\"欸你幹嘛啦\") \n",
    "    \n"
   ]
  },
  {
   "cell_type": "markdown",
   "metadata": {},
   "source": [
    "迴圈(for)"
   ]
  },
  {
   "cell_type": "code",
   "execution_count": 71,
   "metadata": {},
   "outputs": [
    {
     "name": "stdout",
     "output_type": "stream",
     "text": [
      "迴圈練習1:遍歷清單\n",
      "小羅\n",
      "小安\n",
      "小妤\n",
      "饅頭\n",
      "------------------------\n",
      "迴圈練習2:break(符合條件就終止迴圈)\n",
      "小羅\n",
      "小安\n",
      "------------------------\n",
      "迴圈練習3:continue(符合條件就跳過當前內容繼續執行)\n",
      "小羅\n",
      "小安\n",
      "饅頭\n",
      "------------------------\n",
      "迴圈練習4:巢狀迴圈\n",
      "搭配組合: 蛋餅+紅茶\n",
      "搭配組合: 蛋餅+奶茶\n",
      "搭配組合: 蛋餅+豆漿\n",
      "搭配組合: 蔥抓餅+紅茶\n",
      "搭配組合: 蔥抓餅+奶茶\n",
      "搭配組合: 蔥抓餅+豆漿\n",
      "搭配組合: 肉蛋吐司+紅茶\n",
      "搭配組合: 肉蛋吐司+奶茶\n",
      "搭配組合: 肉蛋吐司+豆漿\n",
      "搭配組合: 蘿蔔糕+紅茶\n",
      "搭配組合: 蘿蔔糕+奶茶\n",
      "搭配組合: 蘿蔔糕+豆漿\n",
      "食物和飲料總共有12種組合\n",
      "------------------------\n",
      "迴圈練習5:填充陣列\n",
      "正數陣列: [1, 3, 9]\n",
      "負數陣列: [-1, -8]\n"
     ]
    }
   ],
   "source": [
    "student_list = [\"小羅\", \"小安\", \"小妤\", \"饅頭\"]\n",
    "#遍歷清單內容\n",
    "print(\"迴圈練習1:遍歷清單\")\n",
    "for student in student_list:\n",
    "    print(student) \n",
    "print(\"------------------------\")\n",
    "\n",
    "#break: 結束迴圈\n",
    "print(\"迴圈練習2:break(符合條件就終止迴圈)\")\n",
    "for student in student_list:\n",
    "    if student == \"小妤\": \n",
    "        break\n",
    "    print(student)\n",
    "print(\"------------------------\")\n",
    "\n",
    "#continue: 跳過當下迴圈內容\n",
    "print(\"迴圈練習3:continue(符合條件就跳過當前內容繼續執行)\")\n",
    "for student in student_list:\n",
    "    if student == \"小妤\": \n",
    "        continue\n",
    "    print(student)\n",
    "print(\"------------------------\")\n",
    "\n",
    "#巢狀迴圈\n",
    "print(\"迴圈練習4:巢狀迴圈\")\n",
    "food_list = [\"蛋餅\", \"蔥抓餅\", \"肉蛋吐司\", \"蘿蔔糕\"]\n",
    "drink_list = [\"紅茶\", \"奶茶\", \"豆漿\"]\n",
    "count = 0\n",
    "for food in food_list:\n",
    "    for drink in drink_list:\n",
    "        print(f\"搭配組合: {food}+{drink}\")\n",
    "        count += 1\n",
    "print(f\"食物和飲料總共有{count}種組合\")\n",
    "print(\"------------------------\")\n",
    "\n",
    "#填充陣列\n",
    "print(\"迴圈練習5:填充陣列\")\n",
    "number_list = [-1,1,3,-8,9]\n",
    "positive_list = []\n",
    "negative_list = []\n",
    "for number in number_list:\n",
    "    if number > 0:\n",
    "        positive_list.append(number)\n",
    "    else:\n",
    "        negative_list.append(number)\n",
    "print(\"正數陣列:\", positive_list)\n",
    "print(\"負數陣列:\", negative_list)"
   ]
  },
  {
   "cell_type": "markdown",
   "metadata": {},
   "source": [
    "Range(起始值, 結束值, 間距)"
   ]
  },
  {
   "cell_type": "code",
   "execution_count": 74,
   "metadata": {},
   "outputs": [
    {
     "name": "stdout",
     "output_type": "stream",
     "text": [
      "再來啊:)剩下4次囉哈哈py\n",
      "再來啊:)剩下3次囉哈哈py\n",
      "再來啊:)剩下2次囉哈哈py\n",
      "再來啊:)剩下1次囉哈哈py\n",
      "出事了阿伯蛇\n"
     ]
    }
   ],
   "source": [
    "#range(起始值, 結束值, 間距)\n",
    "for i in range(5):\n",
    "    print(i)\n",
    "print(\"------------------\")\n",
    "for i in range(7,10):\n",
    "    print(i)\n",
    "print(\"------------------\")\n",
    "for i in range(5,10,2):\n",
    "    print(i)\n",
    "print(\"------------------\")    \n",
    "\n",
    "#密碼驗證\n",
    "# i = 0,1,2,3,4\n",
    "#當 i == 4時還沒有猜對，就要印出失敗訊息\n",
    "passwordgood = 1234\n",
    "for i in range(5):\n",
    "    userInput = input(\"請輸入密碼: \")\n",
    "    if passwordgood == userInput:\n",
    "        print(\"很會猜嘛..\")\n",
    "        break\n",
    "    elif passwordgood != userInput and i < 4:\n",
    "        print(f\"再來啊:)剩下{4-i}次囉哈哈py\")\n",
    "    else:\n",
    "        print(\"出事了阿伯蛇\")\n",
    "        "
   ]
  },
  {
   "cell_type": "markdown",
   "metadata": {},
   "source": [
    "迴圈(While)"
   ]
  },
  {
   "cell_type": "code",
   "execution_count": 4,
   "metadata": {},
   "outputs": [
    {
     "name": "stdout",
     "output_type": "stream",
     "text": [
      "猜數字遊戲開始!\n",
      "恭喜兩位玩家在第1回合同時猜中答案，正確解答是: 1000\n"
     ]
    }
   ],
   "source": [
    "print(\"猜數字遊戲開始!\")\n",
    "player1 = input(\"請輸入玩家1的暱稱: \")\n",
    "player2 = input(\"請輸入玩家2的暱稱: \")\n",
    "game_count = 1\n",
    "game_limit = 3\n",
    "correct_number = 1000\n",
    "\n",
    "while game_count <= game_limit:\n",
    "    player1_guess = int(input(f\"{player1}你好，請輸入一個數字: \"))\n",
    "    player2_guess = int(input(f\"{player2}你好，請輸入一個數字: \"))\n",
    "\n",
    "    if player1_guess == correct_number or player2_guess == correct_number:\n",
    "        break\n",
    "    elif abs(player1_guess - correct_number) > abs(player2_guess - correct_number) and game_count < game_limit:\n",
    "        print(f\"{player2}比較接近答案唷，再繼續猜猜看吧\")\n",
    "    elif abs(player1_guess - correct_number) < abs(player2_guess - correct_number) and game_count < game_limit:\n",
    "        print(f\"{player1}比較接近答案唷，再繼續猜猜看吧\")  \n",
    "\n",
    "    game_count += 1\n",
    "\n",
    "if player1_guess == correct_number and player2_guess != correct_number:\n",
    "    print(f\"恭喜{player1}獲勝!在第{game_count}回合猜中答案，正確解答是: {correct_number}\")\n",
    "elif player1_guess != correct_number and player2_guess == correct_number:\n",
    "    print(f\"恭喜{player2}獲勝!在第{game_count}回合猜中答案，正確解答是: {correct_number}\")\n",
    "elif player1_guess == correct_number and player2_guess == correct_number:\n",
    "    print(f\"恭喜兩位玩家在第{game_count}回合同時猜中答案，正確解答是: {correct_number}\")\n",
    "else:\n",
    "    if abs(player1_guess - correct_number) > abs(player2_guess - correct_number):\n",
    "        print(f\"比賽結束!!!!!{player2}比較接近答案，恭喜{player2}獲勝!\")\n",
    "    elif abs(player1_guess - correct_number) < abs(player2_guess - correct_number):\n",
    "        print(f\"比賽結束!!!!!{player1}比較接近答案，恭喜{player1}獲勝!\")\n",
    "    "
   ]
  },
  {
   "cell_type": "markdown",
   "metadata": {},
   "source": [
    "函數(Function)"
   ]
  },
  {
   "cell_type": "code",
   "execution_count": 1,
   "metadata": {},
   "outputs": [
    {
     "name": "stdout",
     "output_type": "stream",
     "text": [
      "Let's start the game!\n",
      "50 add 30 equals 80.\n",
      "Let's start the game!\n",
      "3 minus 2 equals 1.\n",
      "在輸入甚麼啦\n"
     ]
    }
   ],
   "source": [
    "def Addition(x, y):\n",
    "    return x + y\n",
    "def Subtraction(x, y):\n",
    "    return x - y\n",
    "def Multiplication(x, y):\n",
    "    return x * y\n",
    "def Division(x, y):\n",
    "    quotient = x // y\n",
    "    remainder = x % y\n",
    "    return quotient, remainder\n",
    "while True:\n",
    "    method = int(input(\"Please choose a calculation method: (1)Addition (2)Subtraction (3)Multiplication (4)Division\"))\n",
    "    if method not in (1,2,3,4):\n",
    "        print(\"在輸入甚麼啦\")\n",
    "        break\n",
    "    else:\n",
    "        print(\"Let's start the game!\")\n",
    "        number1 = int(input(\"Please enter the first integer:\"))                      \n",
    "        number2 = int(input(\"Please enter the second integer:\"))\n",
    "        if method == 1:\n",
    "            print(f\"{number1} add {number2} equals {Addition(number1, number2)}.\")\n",
    "        elif method == 2:\n",
    "            print(f\"{number1} minus {number2} equals {Subtraction(number1, number2)}.\")\n",
    "        elif method == 3:\n",
    "            print(f\"{number1} multiply {number2} equals {Multiplication(number1, number2)}.\")\n",
    "        else:\n",
    "            result = Division(number1, number2)\n",
    "            quotient = result[0]\n",
    "            remainder = result[1]\n",
    "            if remainder == 0:\n",
    "                print(f\"{number1} divided by {number2} equals {quotient}.\")\n",
    "            else:\n",
    "                print(f\"The quotient of {number1} divided by {number2} is {quotient} and the remainder is {remainder}.\")"
   ]
  },
  {
   "cell_type": "markdown",
   "metadata": {},
   "source": [
    "字典(Dictionary) key-value pair資料結構"
   ]
  },
  {
   "cell_type": "code",
   "execution_count": 26,
   "metadata": {},
   "outputs": [
    {
     "name": "stdout",
     "output_type": "stream",
     "text": [
      "廠牌\n",
      "顏色\n",
      "容量\n",
      "蘋果\n",
      "猴子的屁股紅\n",
      "256 GB\n",
      "('廠牌', '蘋果')\n",
      "('顏色', '猴子的屁股紅')\n",
      "('容量', '256 GB')\n",
      "廠牌是蘋果\n",
      "顏色是猴子的屁股紅\n",
      "容量是256 GB\n",
      "Iphone 15 pro\n",
      "紅色\n",
      "刪除型號:  {'廠牌': '蘋果', '顏色': ['紅色', '黑色'], '容量': '256 GB'}\n",
      "刪除最後一筆:  {'廠牌': '蘋果', '顏色': ['紅色', '黑色']}\n",
      "清空:  {}\n"
     ]
    }
   ],
   "source": [
    "手機1 = {\n",
    "    \"廠牌\" : \"蘋果\",\n",
    "    \"顏色\" : \"猴子的屁股紅\",\n",
    "    \"容量\" : \"256 GB\"\n",
    "}\n",
    "# key, value, item\n",
    "for k in 手機1.keys():\n",
    "    print(k)\n",
    "for v in 手機1.values():\n",
    "    print(v)\n",
    "for i in 手機1.items():\n",
    "    print(i)\n",
    "for k, v in 手機1.items():\n",
    "    print(f\"{k}是{v}\")\n",
    "# 新增\n",
    "手機1[\"型號\"] = \"Iphone 15 pro\"\n",
    "if \"型號\" in 手機1:\n",
    "    print(手機1[\"型號\"])\n",
    "else:\n",
    "    print(\"查無此資訊\")\n",
    "# 修改\n",
    "手機1[\"顏色\"] = [\"紅色\", \"黑色\"]    \n",
    "print(手機1[\"顏色\"][0])\n",
    "# 刪除指定\n",
    "手機1.pop(\"型號\")\n",
    "print(\"刪除型號: \", 手機1)\n",
    "# 刪除最後\n",
    "手機1.popitem()\n",
    "print(\"刪除最後一筆: \",手機1)\n",
    "# 清除所有\n",
    "手機1.clear()\n",
    "print(\"清空: \",手機1)"
   ]
  },
  {
   "cell_type": "code",
   "execution_count": 42,
   "metadata": {},
   "outputs": [
    {
     "name": "stdout",
     "output_type": "stream",
     "text": [
      "<class 'dict'>\n",
      "<class 'list'>\n",
      "<class 'str'>\n",
      "目前庫存中有白色的小米手機，容量是512 GB\n"
     ]
    }
   ],
   "source": [
    "手機1 = {\n",
    "    \"廠牌\" : \"蘋果\",\n",
    "    \"顏色\" : \"猴子的屁股紅\",\n",
    "    \"容量\" : \"256 GB\"\n",
    "}\n",
    "\n",
    "手機2 = {\n",
    "    \"廠牌\" : \"小米\",\n",
    "    \"顏色\" : \"白色\",\n",
    "    \"容量\" : \"512 GB\"\n",
    "}\n",
    "\n",
    "手機3 = {\n",
    "    \"廠牌\" : \"三星\",\n",
    "    \"顏色\" : \"黑色\",\n",
    "    \"容量\" : \"128 GB\"\n",
    "}\n",
    "\n",
    "庫存 = [手機1, 手機2, 手機3]\n",
    "\n",
    "# dictionary\n",
    "print(type(手機1))\n",
    "# list: 可以包含數字、字串、字典\n",
    "print(type(庫存))\n",
    "# string\n",
    "print(type(str(庫存)))\n",
    "\n",
    "查詢內容 = input(\"請輸入要查詢的廠牌名稱:\")\n",
    "\n",
    "if any(手機[\"廠牌\"] == 查詢內容 for 手機 in 庫存): # 手機這個變數僅存在any這個判斷式中\n",
    "    for 庫存手機 in 庫存:\n",
    "        if 庫存手機[\"廠牌\"] == 查詢內容:\n",
    "            print(f\"目前庫存中有{庫存手機['顏色']}的{查詢內容}手機，容量是{庫存手機['容量']}\")\n",
    "else:\n",
    "    print(\"無庫存\")\n"
   ]
  },
  {
   "cell_type": "markdown",
   "metadata": {},
   "source": [
    "模組(Module)"
   ]
  },
  {
   "cell_type": "code",
   "execution_count": 5,
   "metadata": {},
   "outputs": [
    {
     "name": "stdout",
     "output_type": "stream",
     "text": [
      "安安小明，今年幾歲呀\n",
      "安安寶妮，今年幾歲呀\n",
      "安安曉華，今年幾歲呀\n"
     ]
    }
   ],
   "source": [
    "import import_ipynb\n",
    "# 匯入檔案\n",
    "import test_module \n",
    "test_module.Hello(\"小明\")\n",
    "\n",
    "# 匯入檔案(另外命名)\n",
    "import test_module as pp \n",
    "pp.Hello(\"寶妮\")\n",
    "\n",
    "# 匯入檔案(僅匯入特定函數)\n",
    "from test_module import Hello \n",
    "Hello(\"曉華\")"
   ]
  },
  {
   "cell_type": "markdown",
   "metadata": {},
   "source": [
    "隨機(Random)"
   ]
  },
  {
   "cell_type": "code",
   "execution_count": 15,
   "metadata": {},
   "outputs": [
    {
     "name": "stdout",
     "output_type": "stream",
     "text": [
      "打亂序列:  ['3', '1', '2']\n",
      "從給定序列中隨機選取數字:  2\n",
      "從給定範圍中隨機選取數字: 7467\n"
     ]
    }
   ],
   "source": [
    "import random\n",
    "numberList = ['1', '2', '3']\n",
    "\n",
    "# 隨機打亂原本序列\n",
    "random.shuffle(numberList)\n",
    "print(\"打亂序列: \", numberList)\n",
    "# 從給定序列中隨機選取\n",
    "random_number = random.choice(numberList)\n",
    "print(\"從給定序列中隨機選取數字: \", random_number)\n",
    "# 從給定範圍中隨機選取\n",
    "random_number = random.randint(1000, 9000)\n",
    "print(\"從給定範圍中隨機選取數字:\", random_number)\n"
   ]
  },
  {
   "cell_type": "code",
   "execution_count": 25,
   "metadata": {},
   "outputs": [
    {
     "name": "stdout",
     "output_type": "stream",
     "text": [
      "password: Joi\n"
     ]
    }
   ],
   "source": [
    "import string\n",
    "number = string.digits\n",
    "letter = string.ascii_letters\n",
    "# 數字 + 英文\n",
    "# print(number+letter)\n",
    "\n",
    "# 轉換成序列 *因為字串不能直接shuffle\n",
    "combination = list(number + letter)\n",
    "# print(combination)\n",
    "\n",
    "# 打亂序列\n",
    "random.shuffle(combination)\n",
    "# print(combination)\n",
    "\n",
    "# 密碼產生器\n",
    "Number = int(input(\"What number do you want to set for password?\"))\n",
    "result = \"\".join(combination[:Number])\n",
    "print(\"Password:\", result)"
   ]
  },
  {
   "cell_type": "markdown",
   "metadata": {},
   "source": [
    "API, Request應用"
   ]
  },
  {
   "cell_type": "code",
   "execution_count": 39,
   "metadata": {},
   "outputs": [
    {
     "name": "stdout",
     "output_type": "stream",
     "text": [
      "台中市目前的氣溫是攝氏31度\n"
     ]
    }
   ],
   "source": [
    "import requests\n",
    "cityName = input(\"Which city's weather information would you like to check?\")\n",
    "apiKey = \"3404d19a7a10928d91e0fa33d697f18c\"\n",
    "url = f\"https://api.openweathermap.org/data/2.5/weather?q={cityName}&appid={apiKey}\"\n",
    "# 發出請求\n",
    "weatherData = requests.get(url)\n",
    "json_format = weatherData.json()\n",
    "\n",
    "# 取得天氣資訊(type: string)\n",
    "# print(type(weatherData.text))\n",
    "# print(weatherData.text)\n",
    "\n",
    "# json格式(type: dictionary)\n",
    "# print(type(json_format))\n",
    "# print(json_format[\"main\"][\"temp\"])\n",
    "\n",
    "# 取得氣溫\n",
    "temperature = int(json_format[\"main\"][\"temp\"]-273.15)\n",
    "print(f\"{cityName}目前的氣溫是攝氏{temperature}度\")"
   ]
  }
 ],
 "metadata": {
  "kernelspec": {
   "display_name": "base",
   "language": "python",
   "name": "python3"
  },
  "language_info": {
   "codemirror_mode": {
    "name": "ipython",
    "version": 3
   },
   "file_extension": ".py",
   "mimetype": "text/x-python",
   "name": "python",
   "nbconvert_exporter": "python",
   "pygments_lexer": "ipython3",
   "version": "3.11.3"
  }
 },
 "nbformat": 4,
 "nbformat_minor": 2
}
